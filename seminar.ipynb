
In [1]:
print("hello")
hello
